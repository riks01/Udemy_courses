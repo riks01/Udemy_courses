{
 "cells": [
  {
   "cell_type": "markdown",
   "id": "439a1cea",
   "metadata": {},
   "source": [
    "# Financial Data and Preprocessing"
   ]
  },
  {
   "cell_type": "markdown",
   "id": "a3989cf3",
   "metadata": {},
   "source": [
    "## Getting data from Yahoo Finance"
   ]
  },
  {
   "cell_type": "code",
   "execution_count": 38,
   "id": "98c9cf6f",
   "metadata": {},
   "outputs": [],
   "source": [
    "# Installing Yahoo Finance library\n",
    "#pip install yfinance"
   ]
  },
  {
   "cell_type": "markdown",
   "id": "466c5978",
   "metadata": {},
   "source": [
    "1. Importing libraries"
   ]
  },
  {
   "cell_type": "code",
   "execution_count": 39,
   "id": "542defea",
   "metadata": {},
   "outputs": [],
   "source": [
    "import pandas as pd\n",
    "import yfinance as yf"
   ]
  },
  {
   "cell_type": "markdown",
   "id": "f31f1302",
   "metadata": {},
   "source": [
    "2. Downloading data"
   ]
  },
  {
   "cell_type": "code",
   "execution_count": 40,
   "id": "b4acd829",
   "metadata": {},
   "outputs": [],
   "source": [
    "df_yahoo = yf.download('AAPL', start='2000-01-01',\n",
    "                      end='2010-12-31',\n",
    "                      progress=False)"
   ]
  },
  {
   "cell_type": "markdown",
   "id": "7349fd57",
   "metadata": {},
   "source": [
    "3. Inspect the data"
   ]
  },
  {
   "cell_type": "code",
   "execution_count": 41,
   "id": "e5a58e9b",
   "metadata": {},
   "outputs": [
    {
     "name": "stdout",
     "output_type": "stream",
     "text": [
      "Downloaded 2767 rows of data\n"
     ]
    },
    {
     "data": {
      "text/html": [
       "<div>\n",
       "<style scoped>\n",
       "    .dataframe tbody tr th:only-of-type {\n",
       "        vertical-align: middle;\n",
       "    }\n",
       "\n",
       "    .dataframe tbody tr th {\n",
       "        vertical-align: top;\n",
       "    }\n",
       "\n",
       "    .dataframe thead th {\n",
       "        text-align: right;\n",
       "    }\n",
       "</style>\n",
       "<table border=\"1\" class=\"dataframe\">\n",
       "  <thead>\n",
       "    <tr style=\"text-align: right;\">\n",
       "      <th></th>\n",
       "      <th>Open</th>\n",
       "      <th>High</th>\n",
       "      <th>Low</th>\n",
       "      <th>Close</th>\n",
       "      <th>Adj Close</th>\n",
       "      <th>Volume</th>\n",
       "    </tr>\n",
       "    <tr>\n",
       "      <th>Date</th>\n",
       "      <th></th>\n",
       "      <th></th>\n",
       "      <th></th>\n",
       "      <th></th>\n",
       "      <th></th>\n",
       "      <th></th>\n",
       "    </tr>\n",
       "  </thead>\n",
       "  <tbody>\n",
       "    <tr>\n",
       "      <th>1999-12-31</th>\n",
       "      <td>0.901228</td>\n",
       "      <td>0.918527</td>\n",
       "      <td>0.888393</td>\n",
       "      <td>0.917969</td>\n",
       "      <td>0.784880</td>\n",
       "      <td>163811200</td>\n",
       "    </tr>\n",
       "    <tr>\n",
       "      <th>2000-01-03</th>\n",
       "      <td>0.936384</td>\n",
       "      <td>1.004464</td>\n",
       "      <td>0.907924</td>\n",
       "      <td>0.999442</td>\n",
       "      <td>0.854541</td>\n",
       "      <td>535796800</td>\n",
       "    </tr>\n",
       "    <tr>\n",
       "      <th>2000-01-04</th>\n",
       "      <td>0.966518</td>\n",
       "      <td>0.987723</td>\n",
       "      <td>0.903460</td>\n",
       "      <td>0.915179</td>\n",
       "      <td>0.782494</td>\n",
       "      <td>512377600</td>\n",
       "    </tr>\n",
       "    <tr>\n",
       "      <th>2000-01-05</th>\n",
       "      <td>0.926339</td>\n",
       "      <td>0.987165</td>\n",
       "      <td>0.919643</td>\n",
       "      <td>0.928571</td>\n",
       "      <td>0.793945</td>\n",
       "      <td>778321600</td>\n",
       "    </tr>\n",
       "    <tr>\n",
       "      <th>2000-01-06</th>\n",
       "      <td>0.947545</td>\n",
       "      <td>0.955357</td>\n",
       "      <td>0.848214</td>\n",
       "      <td>0.848214</td>\n",
       "      <td>0.725238</td>\n",
       "      <td>767972800</td>\n",
       "    </tr>\n",
       "  </tbody>\n",
       "</table>\n",
       "</div>"
      ],
      "text/plain": [
       "                Open      High       Low     Close  Adj Close     Volume\n",
       "Date                                                                    \n",
       "1999-12-31  0.901228  0.918527  0.888393  0.917969   0.784880  163811200\n",
       "2000-01-03  0.936384  1.004464  0.907924  0.999442   0.854541  535796800\n",
       "2000-01-04  0.966518  0.987723  0.903460  0.915179   0.782494  512377600\n",
       "2000-01-05  0.926339  0.987165  0.919643  0.928571   0.793945  778321600\n",
       "2000-01-06  0.947545  0.955357  0.848214  0.848214   0.725238  767972800"
      ]
     },
     "execution_count": 41,
     "metadata": {},
     "output_type": "execute_result"
    }
   ],
   "source": [
    "print(f'Downloaded {df_yahoo.shape[0]} rows of data')\n",
    "\n",
    "df_yahoo.head()"
   ]
  },
  {
   "cell_type": "markdown",
   "id": "9a507d9e",
   "metadata": {},
   "source": [
    "## Download the data from Quandl"
   ]
  },
  {
   "cell_type": "markdown",
   "id": "79d95d64",
   "metadata": {},
   "source": [
    "1. import the libraries"
   ]
  },
  {
   "cell_type": "code",
   "execution_count": 42,
   "id": "86451467",
   "metadata": {},
   "outputs": [],
   "source": [
    "# pip install Quandl"
   ]
  },
  {
   "cell_type": "code",
   "execution_count": 43,
   "id": "a7df8f19",
   "metadata": {},
   "outputs": [],
   "source": [
    "import pandas as pd\n",
    "import quandl "
   ]
  },
  {
   "cell_type": "markdown",
   "id": "df259358",
   "metadata": {},
   "source": [
    "2. Authenticate using the personal API key"
   ]
  },
  {
   "cell_type": "markdown",
   "id": "5b3d0120",
   "metadata": {},
   "source": [
    "To get the api key, login on this site: <a>https://data.nasdaq.com/</a> , and go to account_profile to get api"
   ]
  },
  {
   "cell_type": "code",
   "execution_count": 44,
   "id": "474f8047",
   "metadata": {},
   "outputs": [],
   "source": [
    "#QUANDL_KEY = '{key}'\n",
    "QUANDL_KEY = 'gnp-UzdRvRZ6MCW1CwYA'  # replace with your own API key\n",
    "quandl.ApiConfig.api_key = QUANDL_KEY"
   ]
  },
  {
   "cell_type": "markdown",
   "id": "6a3045d6",
   "metadata": {},
   "source": [
    "3. Download the data"
   ]
  },
  {
   "cell_type": "code",
   "execution_count": 45,
   "id": "625b2136",
   "metadata": {},
   "outputs": [],
   "source": [
    "df_quandl = quandl.get(dataset='WIKI/AAPL',\n",
    "                      start_date='2000-01-01',\n",
    "                      end_date='2010-12-31')"
   ]
  },
  {
   "cell_type": "markdown",
   "id": "71c869dd",
   "metadata": {},
   "source": [
    "4. Inspect the data"
   ]
  },
  {
   "cell_type": "code",
   "execution_count": 46,
   "id": "fbd7e578",
   "metadata": {},
   "outputs": [
    {
     "name": "stdout",
     "output_type": "stream",
     "text": [
      "Downloaded 2767 rows of data.\n"
     ]
    },
    {
     "data": {
      "text/html": [
       "<div>\n",
       "<style scoped>\n",
       "    .dataframe tbody tr th:only-of-type {\n",
       "        vertical-align: middle;\n",
       "    }\n",
       "\n",
       "    .dataframe tbody tr th {\n",
       "        vertical-align: top;\n",
       "    }\n",
       "\n",
       "    .dataframe thead th {\n",
       "        text-align: right;\n",
       "    }\n",
       "</style>\n",
       "<table border=\"1\" class=\"dataframe\">\n",
       "  <thead>\n",
       "    <tr style=\"text-align: right;\">\n",
       "      <th></th>\n",
       "      <th>Open</th>\n",
       "      <th>High</th>\n",
       "      <th>Low</th>\n",
       "      <th>Close</th>\n",
       "      <th>Volume</th>\n",
       "      <th>Ex-Dividend</th>\n",
       "      <th>Split Ratio</th>\n",
       "      <th>Adj. Open</th>\n",
       "      <th>Adj. High</th>\n",
       "      <th>Adj. Low</th>\n",
       "      <th>Adj. Close</th>\n",
       "      <th>Adj. Volume</th>\n",
       "    </tr>\n",
       "    <tr>\n",
       "      <th>Date</th>\n",
       "      <th></th>\n",
       "      <th></th>\n",
       "      <th></th>\n",
       "      <th></th>\n",
       "      <th></th>\n",
       "      <th></th>\n",
       "      <th></th>\n",
       "      <th></th>\n",
       "      <th></th>\n",
       "      <th></th>\n",
       "      <th></th>\n",
       "      <th></th>\n",
       "    </tr>\n",
       "  </thead>\n",
       "  <tbody>\n",
       "    <tr>\n",
       "      <th>2000-01-03</th>\n",
       "      <td>104.87</td>\n",
       "      <td>112.50</td>\n",
       "      <td>101.69</td>\n",
       "      <td>111.94</td>\n",
       "      <td>4783900.0</td>\n",
       "      <td>0.0</td>\n",
       "      <td>1.0</td>\n",
       "      <td>3.369314</td>\n",
       "      <td>3.614454</td>\n",
       "      <td>3.267146</td>\n",
       "      <td>3.596463</td>\n",
       "      <td>133949200.0</td>\n",
       "    </tr>\n",
       "    <tr>\n",
       "      <th>2000-01-04</th>\n",
       "      <td>108.25</td>\n",
       "      <td>110.62</td>\n",
       "      <td>101.19</td>\n",
       "      <td>102.50</td>\n",
       "      <td>4574800.0</td>\n",
       "      <td>0.0</td>\n",
       "      <td>1.0</td>\n",
       "      <td>3.477908</td>\n",
       "      <td>3.554053</td>\n",
       "      <td>3.251081</td>\n",
       "      <td>3.293170</td>\n",
       "      <td>128094400.0</td>\n",
       "    </tr>\n",
       "    <tr>\n",
       "      <th>2000-01-05</th>\n",
       "      <td>103.75</td>\n",
       "      <td>110.56</td>\n",
       "      <td>103.00</td>\n",
       "      <td>104.00</td>\n",
       "      <td>6949300.0</td>\n",
       "      <td>0.0</td>\n",
       "      <td>1.0</td>\n",
       "      <td>3.333330</td>\n",
       "      <td>3.552125</td>\n",
       "      <td>3.309234</td>\n",
       "      <td>3.341362</td>\n",
       "      <td>194580400.0</td>\n",
       "    </tr>\n",
       "    <tr>\n",
       "      <th>2000-01-06</th>\n",
       "      <td>106.12</td>\n",
       "      <td>107.00</td>\n",
       "      <td>95.00</td>\n",
       "      <td>95.00</td>\n",
       "      <td>6856900.0</td>\n",
       "      <td>0.0</td>\n",
       "      <td>1.0</td>\n",
       "      <td>3.409475</td>\n",
       "      <td>3.437748</td>\n",
       "      <td>3.052206</td>\n",
       "      <td>3.052206</td>\n",
       "      <td>191993200.0</td>\n",
       "    </tr>\n",
       "    <tr>\n",
       "      <th>2000-01-07</th>\n",
       "      <td>96.50</td>\n",
       "      <td>101.00</td>\n",
       "      <td>95.50</td>\n",
       "      <td>99.50</td>\n",
       "      <td>4113700.0</td>\n",
       "      <td>0.0</td>\n",
       "      <td>1.0</td>\n",
       "      <td>3.100399</td>\n",
       "      <td>3.244977</td>\n",
       "      <td>3.068270</td>\n",
       "      <td>3.196784</td>\n",
       "      <td>115183600.0</td>\n",
       "    </tr>\n",
       "  </tbody>\n",
       "</table>\n",
       "</div>"
      ],
      "text/plain": [
       "              Open    High     Low   Close     Volume  Ex-Dividend  \\\n",
       "Date                                                                 \n",
       "2000-01-03  104.87  112.50  101.69  111.94  4783900.0          0.0   \n",
       "2000-01-04  108.25  110.62  101.19  102.50  4574800.0          0.0   \n",
       "2000-01-05  103.75  110.56  103.00  104.00  6949300.0          0.0   \n",
       "2000-01-06  106.12  107.00   95.00   95.00  6856900.0          0.0   \n",
       "2000-01-07   96.50  101.00   95.50   99.50  4113700.0          0.0   \n",
       "\n",
       "            Split Ratio  Adj. Open  Adj. High  Adj. Low  Adj. Close  \\\n",
       "Date                                                                  \n",
       "2000-01-03          1.0   3.369314   3.614454  3.267146    3.596463   \n",
       "2000-01-04          1.0   3.477908   3.554053  3.251081    3.293170   \n",
       "2000-01-05          1.0   3.333330   3.552125  3.309234    3.341362   \n",
       "2000-01-06          1.0   3.409475   3.437748  3.052206    3.052206   \n",
       "2000-01-07          1.0   3.100399   3.244977  3.068270    3.196784   \n",
       "\n",
       "            Adj. Volume  \n",
       "Date                     \n",
       "2000-01-03  133949200.0  \n",
       "2000-01-04  128094400.0  \n",
       "2000-01-05  194580400.0  \n",
       "2000-01-06  191993200.0  \n",
       "2000-01-07  115183600.0  "
      ]
     },
     "execution_count": 46,
     "metadata": {},
     "output_type": "execute_result"
    }
   ],
   "source": [
    "print(f'Downloaded {df_quandl.shape[0]} rows of data.')\n",
    "df_quandl.head()"
   ]
  },
  {
   "cell_type": "markdown",
   "id": "055bd9cf",
   "metadata": {},
   "source": [
    "# Converting prices to returns"
   ]
  },
  {
   "cell_type": "markdown",
   "id": "a1e8f4c8",
   "metadata": {},
   "source": [
    "## How to add it"
   ]
  },
  {
   "cell_type": "markdown",
   "id": "73785697",
   "metadata": {},
   "source": [
    "1. Import the libraries"
   ]
  },
  {
   "cell_type": "code",
   "execution_count": 47,
   "id": "60e1e43c",
   "metadata": {},
   "outputs": [],
   "source": [
    "import pandas as pd\n",
    "import numpy as np\n",
    "import yfinance as yf"
   ]
  },
  {
   "cell_type": "markdown",
   "id": "a3b9a0fc",
   "metadata": {},
   "source": [
    "2. Download the data and keep the adjusted close price only"
   ]
  },
  {
   "cell_type": "code",
   "execution_count": 48,
   "id": "0e18d2ea",
   "metadata": {},
   "outputs": [],
   "source": [
    "df = yf.download('AAPL',\n",
    "                start='2000-01-01',\n",
    "                end='2010-12-31',\n",
    "                progress=False)\n",
    "df = df.loc[:, ['Adj Close']]\n",
    "df.rename(columns={'Adj Close': 'adj_close'}, inplace=True)"
   ]
  },
  {
   "cell_type": "markdown",
   "id": "4fdd2d07",
   "metadata": {},
   "source": [
    "3. Convert adjusted close prices to simple and log returns\n",
    "\n",
    "<b>simple return</b>\n",
    "\n",
    "The formula to calculate simple return is: (current_row - prev_row)/(prev_row), to calculate this pandas have inbuilt function- pct_change()\n",
    "\n",
    "<b>Log returns </b>\n",
    "\n",
    "The formula to log return is log(current_row - next_row), to perform this computation, we can shift each row forward. Thus we can easily subtract the actual column with the shifted column.\n",
    "\n",
    "<b><i>Note:</b></i> The first row of this computed column will always be NaN as we don't be having previous record to subtract."
   ]
  },
  {
   "cell_type": "code",
   "execution_count": 49,
   "id": "bb8a61aa",
   "metadata": {},
   "outputs": [
    {
     "data": {
      "text/html": [
       "<div>\n",
       "<style scoped>\n",
       "    .dataframe tbody tr th:only-of-type {\n",
       "        vertical-align: middle;\n",
       "    }\n",
       "\n",
       "    .dataframe tbody tr th {\n",
       "        vertical-align: top;\n",
       "    }\n",
       "\n",
       "    .dataframe thead th {\n",
       "        text-align: right;\n",
       "    }\n",
       "</style>\n",
       "<table border=\"1\" class=\"dataframe\">\n",
       "  <thead>\n",
       "    <tr style=\"text-align: right;\">\n",
       "      <th></th>\n",
       "      <th>adj_close</th>\n",
       "    </tr>\n",
       "    <tr>\n",
       "      <th>Date</th>\n",
       "      <th></th>\n",
       "    </tr>\n",
       "  </thead>\n",
       "  <tbody>\n",
       "    <tr>\n",
       "      <th>1999-12-31</th>\n",
       "      <td>0.784880</td>\n",
       "    </tr>\n",
       "    <tr>\n",
       "      <th>2000-01-03</th>\n",
       "      <td>0.854541</td>\n",
       "    </tr>\n",
       "    <tr>\n",
       "      <th>2000-01-04</th>\n",
       "      <td>0.782494</td>\n",
       "    </tr>\n",
       "    <tr>\n",
       "      <th>2000-01-05</th>\n",
       "      <td>0.793945</td>\n",
       "    </tr>\n",
       "    <tr>\n",
       "      <th>2000-01-06</th>\n",
       "      <td>0.725238</td>\n",
       "    </tr>\n",
       "  </tbody>\n",
       "</table>\n",
       "</div>"
      ],
      "text/plain": [
       "            adj_close\n",
       "Date                 \n",
       "1999-12-31   0.784880\n",
       "2000-01-03   0.854541\n",
       "2000-01-04   0.782494\n",
       "2000-01-05   0.793945\n",
       "2000-01-06   0.725238"
      ]
     },
     "execution_count": 49,
     "metadata": {},
     "output_type": "execute_result"
    }
   ],
   "source": [
    "df.head()"
   ]
  },
  {
   "cell_type": "code",
   "execution_count": 50,
   "id": "9089ea52",
   "metadata": {},
   "outputs": [],
   "source": [
    "df['simple_rtn'] = df.adj_close.pct_change()\n",
    "df['log_rtn'] = np.log(df.adj_close/df.adj_close.shift(1))"
   ]
  },
  {
   "cell_type": "markdown",
   "id": "fd7f17f7",
   "metadata": {},
   "source": [
    "4. Inspect the output"
   ]
  },
  {
   "cell_type": "code",
   "execution_count": 51,
   "id": "a1da4ded",
   "metadata": {},
   "outputs": [
    {
     "data": {
      "text/html": [
       "<div>\n",
       "<style scoped>\n",
       "    .dataframe tbody tr th:only-of-type {\n",
       "        vertical-align: middle;\n",
       "    }\n",
       "\n",
       "    .dataframe tbody tr th {\n",
       "        vertical-align: top;\n",
       "    }\n",
       "\n",
       "    .dataframe thead th {\n",
       "        text-align: right;\n",
       "    }\n",
       "</style>\n",
       "<table border=\"1\" class=\"dataframe\">\n",
       "  <thead>\n",
       "    <tr style=\"text-align: right;\">\n",
       "      <th></th>\n",
       "      <th>adj_close</th>\n",
       "      <th>simple_rtn</th>\n",
       "      <th>log_rtn</th>\n",
       "    </tr>\n",
       "    <tr>\n",
       "      <th>Date</th>\n",
       "      <th></th>\n",
       "      <th></th>\n",
       "      <th></th>\n",
       "    </tr>\n",
       "  </thead>\n",
       "  <tbody>\n",
       "    <tr>\n",
       "      <th>1999-12-31</th>\n",
       "      <td>0.784880</td>\n",
       "      <td>NaN</td>\n",
       "      <td>NaN</td>\n",
       "    </tr>\n",
       "    <tr>\n",
       "      <th>2000-01-03</th>\n",
       "      <td>0.854541</td>\n",
       "      <td>0.088754</td>\n",
       "      <td>0.085034</td>\n",
       "    </tr>\n",
       "    <tr>\n",
       "      <th>2000-01-04</th>\n",
       "      <td>0.782494</td>\n",
       "      <td>-0.084310</td>\n",
       "      <td>-0.088077</td>\n",
       "    </tr>\n",
       "    <tr>\n",
       "      <th>2000-01-05</th>\n",
       "      <td>0.793945</td>\n",
       "      <td>0.014633</td>\n",
       "      <td>0.014527</td>\n",
       "    </tr>\n",
       "    <tr>\n",
       "      <th>2000-01-06</th>\n",
       "      <td>0.725238</td>\n",
       "      <td>-0.086538</td>\n",
       "      <td>-0.090514</td>\n",
       "    </tr>\n",
       "  </tbody>\n",
       "</table>\n",
       "</div>"
      ],
      "text/plain": [
       "            adj_close  simple_rtn   log_rtn\n",
       "Date                                       \n",
       "1999-12-31   0.784880         NaN       NaN\n",
       "2000-01-03   0.854541    0.088754  0.085034\n",
       "2000-01-04   0.782494   -0.084310 -0.088077\n",
       "2000-01-05   0.793945    0.014633  0.014527\n",
       "2000-01-06   0.725238   -0.086538 -0.090514"
      ]
     },
     "execution_count": 51,
     "metadata": {},
     "output_type": "execute_result"
    }
   ],
   "source": [
    "df.head()"
   ]
  },
  {
   "cell_type": "markdown",
   "id": "1e57f1e8",
   "metadata": {},
   "source": [
    "There's more"
   ]
  },
  {
   "cell_type": "markdown",
   "id": "aea847f0",
   "metadata": {},
   "source": [
    "1. Import libraries and authenticate"
   ]
  },
  {
   "cell_type": "code",
   "execution_count": 52,
   "id": "709aa907",
   "metadata": {},
   "outputs": [],
   "source": [
    "import pandas as pd\n",
    "import quandl\n",
    "\n",
    "QUANDL_KEY = 'gnp-UzdRvRZ6MCW1CwYA' # replace with your own key\n",
    "quandl.ApiConfig.api_key = QUANDL_KEY"
   ]
  },
  {
   "cell_type": "markdown",
   "id": "a4e7dd4b",
   "metadata": {},
   "source": [
    "2. Create a DataFrame with all possible dates and left join the prices on it\n",
    "\n",
    "<b>fillna(method='ffill')</b>\n",
    "\n",
    "Since on weekends the stock market is closed, so if you observe we have some skipped dates in our dataset. To fill that we will left-join complete dates from  1999-12-31 to 2010-12-31 and fill the missing values (i.e values for weekend) using 'ffill' (aka forward fill) which basically fills one prior value of that null (if 2000-01-05 & 2000-01-06 is weekend then we will fill value of 2000-01-04) \n",
    "\n",
    "<b>asfreq('M')</b>\n",
    "\n",
    "To get the values of month end. (Try putting asfreq('Y'), this will give you year end values)"
   ]
  },
  {
   "cell_type": "code",
   "execution_count": 53,
   "id": "53ab1afe",
   "metadata": {},
   "outputs": [],
   "source": [
    "df_all_dates = pd.DataFrame(index=pd.date_range(start='1999-12-31',\n",
    "                                               end='2010-12-31'))\n",
    "\n",
    "df = df_all_dates.join(df[['adj_close']], how='left').fillna(method='ffill').asfreq('M')"
   ]
  },
  {
   "cell_type": "markdown",
   "id": "11a51bbb",
   "metadata": {},
   "source": [
    "3. Download inflation data from Quandl"
   ]
  },
  {
   "cell_type": "code",
   "execution_count": 55,
   "id": "c6254e8b",
   "metadata": {},
   "outputs": [],
   "source": [
    "df_cpi = quandl.get(dataset='RATEINF/CPI_USA',\n",
    "                   start_date='1999-01-01',\n",
    "                   end_date='2010-12-31')\n",
    "df_cpi.rename(columns={'Value': 'cpi'}, inplace=True)"
   ]
  },
  {
   "cell_type": "markdown",
   "id": "7409e1e0",
   "metadata": {},
   "source": [
    "4. Merging inflation data to prices"
   ]
  },
  {
   "cell_type": "code",
   "execution_count": 57,
   "id": "d1d3c3b8",
   "metadata": {},
   "outputs": [],
   "source": [
    "df_merged = df.join(df_cpi, how='left')"
   ]
  },
  {
   "cell_type": "code",
   "execution_count": 58,
   "id": "94117201",
   "metadata": {},
   "outputs": [
    {
     "data": {
      "text/html": [
       "<div>\n",
       "<style scoped>\n",
       "    .dataframe tbody tr th:only-of-type {\n",
       "        vertical-align: middle;\n",
       "    }\n",
       "\n",
       "    .dataframe tbody tr th {\n",
       "        vertical-align: top;\n",
       "    }\n",
       "\n",
       "    .dataframe thead th {\n",
       "        text-align: right;\n",
       "    }\n",
       "</style>\n",
       "<table border=\"1\" class=\"dataframe\">\n",
       "  <thead>\n",
       "    <tr style=\"text-align: right;\">\n",
       "      <th></th>\n",
       "      <th>adj_close</th>\n",
       "      <th>cpi</th>\n",
       "    </tr>\n",
       "  </thead>\n",
       "  <tbody>\n",
       "    <tr>\n",
       "      <th>1999-12-31</th>\n",
       "      <td>0.784880</td>\n",
       "      <td>168.300</td>\n",
       "    </tr>\n",
       "    <tr>\n",
       "      <th>2000-01-31</th>\n",
       "      <td>0.792036</td>\n",
       "      <td>168.800</td>\n",
       "    </tr>\n",
       "    <tr>\n",
       "      <th>2000-02-29</th>\n",
       "      <td>0.875058</td>\n",
       "      <td>169.800</td>\n",
       "    </tr>\n",
       "    <tr>\n",
       "      <th>2000-03-31</th>\n",
       "      <td>1.036805</td>\n",
       "      <td>171.200</td>\n",
       "    </tr>\n",
       "    <tr>\n",
       "      <th>2000-04-30</th>\n",
       "      <td>0.947104</td>\n",
       "      <td>171.300</td>\n",
       "    </tr>\n",
       "    <tr>\n",
       "      <th>...</th>\n",
       "      <td>...</td>\n",
       "      <td>...</td>\n",
       "    </tr>\n",
       "    <tr>\n",
       "      <th>2010-08-31</th>\n",
       "      <td>7.423391</td>\n",
       "      <td>218.312</td>\n",
       "    </tr>\n",
       "    <tr>\n",
       "      <th>2010-09-30</th>\n",
       "      <td>8.664691</td>\n",
       "      <td>218.439</td>\n",
       "    </tr>\n",
       "    <tr>\n",
       "      <th>2010-10-31</th>\n",
       "      <td>9.190834</td>\n",
       "      <td>218.711</td>\n",
       "    </tr>\n",
       "    <tr>\n",
       "      <th>2010-11-30</th>\n",
       "      <td>9.501387</td>\n",
       "      <td>218.803</td>\n",
       "    </tr>\n",
       "    <tr>\n",
       "      <th>2010-12-31</th>\n",
       "      <td>9.883395</td>\n",
       "      <td>219.179</td>\n",
       "    </tr>\n",
       "  </tbody>\n",
       "</table>\n",
       "<p>133 rows × 2 columns</p>\n",
       "</div>"
      ],
      "text/plain": [
       "            adj_close      cpi\n",
       "1999-12-31   0.784880  168.300\n",
       "2000-01-31   0.792036  168.800\n",
       "2000-02-29   0.875058  169.800\n",
       "2000-03-31   1.036805  171.200\n",
       "2000-04-30   0.947104  171.300\n",
       "...               ...      ...\n",
       "2010-08-31   7.423391  218.312\n",
       "2010-09-30   8.664691  218.439\n",
       "2010-10-31   9.190834  218.711\n",
       "2010-11-30   9.501387  218.803\n",
       "2010-12-31   9.883395  219.179\n",
       "\n",
       "[133 rows x 2 columns]"
      ]
     },
     "execution_count": 58,
     "metadata": {},
     "output_type": "execute_result"
    }
   ],
   "source": [
    "df_merged"
   ]
  },
  {
   "cell_type": "markdown",
   "id": "ccdcac24",
   "metadata": {},
   "source": [
    "5. Calculate simple return and inflation rate:"
   ]
  },
  {
   "cell_type": "code",
   "execution_count": 59,
   "id": "61ee5755",
   "metadata": {},
   "outputs": [],
   "source": [
    "df_merged['simple_rtn'] = df_merged.adj_close.pct_change()\n",
    "df_merged['inflation_rate'] = df_merged.cpi.pct_change()"
   ]
  },
  {
   "cell_type": "markdown",
   "id": "43d0878f",
   "metadata": {},
   "source": [
    "6. Adjust returns for inflation\n",
    "\n",
    "Real return(Inflation adjusted return) is calculated as: (simple_return + 1)/(inflation_rate + 1) - 1"
   ]
  },
  {
   "cell_type": "code",
   "execution_count": 60,
   "id": "942d477f",
   "metadata": {},
   "outputs": [
    {
     "data": {
      "text/html": [
       "<div>\n",
       "<style scoped>\n",
       "    .dataframe tbody tr th:only-of-type {\n",
       "        vertical-align: middle;\n",
       "    }\n",
       "\n",
       "    .dataframe tbody tr th {\n",
       "        vertical-align: top;\n",
       "    }\n",
       "\n",
       "    .dataframe thead th {\n",
       "        text-align: right;\n",
       "    }\n",
       "</style>\n",
       "<table border=\"1\" class=\"dataframe\">\n",
       "  <thead>\n",
       "    <tr style=\"text-align: right;\">\n",
       "      <th></th>\n",
       "      <th>adj_close</th>\n",
       "      <th>cpi</th>\n",
       "      <th>simple_rtn</th>\n",
       "      <th>inflation_rate</th>\n",
       "      <th>real_rtn</th>\n",
       "    </tr>\n",
       "  </thead>\n",
       "  <tbody>\n",
       "    <tr>\n",
       "      <th>1999-12-31</th>\n",
       "      <td>0.784880</td>\n",
       "      <td>168.3</td>\n",
       "      <td>NaN</td>\n",
       "      <td>NaN</td>\n",
       "      <td>NaN</td>\n",
       "    </tr>\n",
       "    <tr>\n",
       "      <th>2000-01-31</th>\n",
       "      <td>0.792036</td>\n",
       "      <td>168.8</td>\n",
       "      <td>0.009118</td>\n",
       "      <td>0.002971</td>\n",
       "      <td>0.006129</td>\n",
       "    </tr>\n",
       "    <tr>\n",
       "      <th>2000-02-29</th>\n",
       "      <td>0.875058</td>\n",
       "      <td>169.8</td>\n",
       "      <td>0.104820</td>\n",
       "      <td>0.005924</td>\n",
       "      <td>0.098314</td>\n",
       "    </tr>\n",
       "    <tr>\n",
       "      <th>2000-03-31</th>\n",
       "      <td>1.036805</td>\n",
       "      <td>171.2</td>\n",
       "      <td>0.184841</td>\n",
       "      <td>0.008245</td>\n",
       "      <td>0.175152</td>\n",
       "    </tr>\n",
       "    <tr>\n",
       "      <th>2000-04-30</th>\n",
       "      <td>0.947104</td>\n",
       "      <td>171.3</td>\n",
       "      <td>-0.086516</td>\n",
       "      <td>0.000584</td>\n",
       "      <td>-0.087050</td>\n",
       "    </tr>\n",
       "  </tbody>\n",
       "</table>\n",
       "</div>"
      ],
      "text/plain": [
       "            adj_close    cpi  simple_rtn  inflation_rate  real_rtn\n",
       "1999-12-31   0.784880  168.3         NaN             NaN       NaN\n",
       "2000-01-31   0.792036  168.8    0.009118        0.002971  0.006129\n",
       "2000-02-29   0.875058  169.8    0.104820        0.005924  0.098314\n",
       "2000-03-31   1.036805  171.2    0.184841        0.008245  0.175152\n",
       "2000-04-30   0.947104  171.3   -0.086516        0.000584 -0.087050"
      ]
     },
     "execution_count": 60,
     "metadata": {},
     "output_type": "execute_result"
    }
   ],
   "source": [
    "df_merged['real_rtn'] = (df_merged.simple_rtn + 1) / (df_merged.inflation_rate + 1) -1\n",
    "df_merged.head()"
   ]
  },
  {
   "cell_type": "markdown",
   "id": "00fe6838",
   "metadata": {},
   "source": [
    "## Changing frequency"
   ]
  },
  {
   "cell_type": "markdown",
   "id": "6c40b054",
   "metadata": {},
   "source": [
    "0. Obtain the simple returns in case of starting in this recipe"
   ]
  },
  {
   "cell_type": "code",
   "execution_count": 70,
   "id": "91fdcc35",
   "metadata": {},
   "outputs": [
    {
     "data": {
      "text/html": [
       "<div>\n",
       "<style scoped>\n",
       "    .dataframe tbody tr th:only-of-type {\n",
       "        vertical-align: middle;\n",
       "    }\n",
       "\n",
       "    .dataframe tbody tr th {\n",
       "        vertical-align: top;\n",
       "    }\n",
       "\n",
       "    .dataframe thead th {\n",
       "        text-align: right;\n",
       "    }\n",
       "</style>\n",
       "<table border=\"1\" class=\"dataframe\">\n",
       "  <thead>\n",
       "    <tr style=\"text-align: right;\">\n",
       "      <th></th>\n",
       "      <th>log_rtn</th>\n",
       "    </tr>\n",
       "    <tr>\n",
       "      <th>Date</th>\n",
       "      <th></th>\n",
       "    </tr>\n",
       "  </thead>\n",
       "  <tbody>\n",
       "    <tr>\n",
       "      <th>2000-01-03</th>\n",
       "      <td>0.085034</td>\n",
       "    </tr>\n",
       "    <tr>\n",
       "      <th>2000-01-04</th>\n",
       "      <td>-0.088077</td>\n",
       "    </tr>\n",
       "    <tr>\n",
       "      <th>2000-01-05</th>\n",
       "      <td>0.014527</td>\n",
       "    </tr>\n",
       "    <tr>\n",
       "      <th>2000-01-06</th>\n",
       "      <td>-0.090514</td>\n",
       "    </tr>\n",
       "    <tr>\n",
       "      <th>2000-01-07</th>\n",
       "      <td>0.046282</td>\n",
       "    </tr>\n",
       "  </tbody>\n",
       "</table>\n",
       "</div>"
      ],
      "text/plain": [
       "             log_rtn\n",
       "Date                \n",
       "2000-01-03  0.085034\n",
       "2000-01-04 -0.088077\n",
       "2000-01-05  0.014527\n",
       "2000-01-06 -0.090514\n",
       "2000-01-07  0.046282"
      ]
     },
     "execution_count": 70,
     "metadata": {},
     "output_type": "execute_result"
    }
   ],
   "source": [
    "import pandas as pd\n",
    "import numpy as np\n",
    "import yfinance as yf\n",
    "\n",
    "# download data\n",
    "df = yf.download('AAPL',\n",
    "                start='2000-01-01',\n",
    "                end='2020-12-31',\n",
    "                auto_adjust=False,\n",
    "                progress=False)\n",
    "\n",
    "# keep only the adjusted close price\n",
    "df = df.loc[:,['Adj Close']]\n",
    "df.rename(columns={'Adj Close': 'adj_close'}, inplace=True)\n",
    "\n",
    "# calculate log return\n",
    "df['log_rtn'] = np.log(df['adj_close']/df['adj_close'].shift(1)) \n",
    "\n",
    "# remove redundant data\n",
    "df.drop('adj_close', axis=1, inplace=True)\n",
    "df.dropna(axis=0, inplace=True)\n",
    "df.head()"
   ]
  },
  {
   "cell_type": "markdown",
   "id": "7495cbf1",
   "metadata": {},
   "source": [
    "1. Import the libraries"
   ]
  },
  {
   "cell_type": "code",
   "execution_count": 71,
   "id": "f7c642a2",
   "metadata": {},
   "outputs": [],
   "source": [
    "import pandas as pd"
   ]
  },
  {
   "cell_type": "markdown",
   "id": "41a4c2b8",
   "metadata": {},
   "source": [
    "2. Define the function for calculating the realized volatility"
   ]
  },
  {
   "cell_type": "code",
   "execution_count": 67,
   "id": "16447c0a",
   "metadata": {},
   "outputs": [],
   "source": [
    "def realized_volatility(x):\n",
    "    return np.sqrt(np.sum(x**2))"
   ]
  },
  {
   "cell_type": "markdown",
   "id": "dc56c93b",
   "metadata": {},
   "source": [
    "3. Calculate monthly realized volatility"
   ]
  },
  {
   "cell_type": "code",
   "execution_count": 73,
   "id": "65a61f60",
   "metadata": {},
   "outputs": [],
   "source": [
    "df_rv = df.groupby(pd.Grouper(freq='M')).apply(realized_volatility)\n",
    "df_rv.rename(columns={'log_rtn': 'rv'}, inplace=True)"
   ]
  },
  {
   "cell_type": "code",
   "execution_count": 74,
   "id": "89874528",
   "metadata": {},
   "outputs": [
    {
     "data": {
      "text/html": [
       "<div>\n",
       "<style scoped>\n",
       "    .dataframe tbody tr th:only-of-type {\n",
       "        vertical-align: middle;\n",
       "    }\n",
       "\n",
       "    .dataframe tbody tr th {\n",
       "        vertical-align: top;\n",
       "    }\n",
       "\n",
       "    .dataframe thead th {\n",
       "        text-align: right;\n",
       "    }\n",
       "</style>\n",
       "<table border=\"1\" class=\"dataframe\">\n",
       "  <thead>\n",
       "    <tr style=\"text-align: right;\">\n",
       "      <th></th>\n",
       "      <th>rv</th>\n",
       "    </tr>\n",
       "    <tr>\n",
       "      <th>Date</th>\n",
       "      <th></th>\n",
       "    </tr>\n",
       "  </thead>\n",
       "  <tbody>\n",
       "    <tr>\n",
       "      <th>2000-01-31</th>\n",
       "      <td>0.251084</td>\n",
       "    </tr>\n",
       "    <tr>\n",
       "      <th>2000-02-29</th>\n",
       "      <td>0.147841</td>\n",
       "    </tr>\n",
       "    <tr>\n",
       "      <th>2000-03-31</th>\n",
       "      <td>0.243592</td>\n",
       "    </tr>\n",
       "    <tr>\n",
       "      <th>2000-04-30</th>\n",
       "      <td>0.212513</td>\n",
       "    </tr>\n",
       "    <tr>\n",
       "      <th>2000-05-31</th>\n",
       "      <td>0.184990</td>\n",
       "    </tr>\n",
       "  </tbody>\n",
       "</table>\n",
       "</div>"
      ],
      "text/plain": [
       "                  rv\n",
       "Date                \n",
       "2000-01-31  0.251084\n",
       "2000-02-29  0.147841\n",
       "2000-03-31  0.243592\n",
       "2000-04-30  0.212513\n",
       "2000-05-31  0.184990"
      ]
     },
     "execution_count": 74,
     "metadata": {},
     "output_type": "execute_result"
    }
   ],
   "source": [
    "df_rv.head()"
   ]
  },
  {
   "cell_type": "markdown",
   "id": "be84a67a",
   "metadata": {},
   "source": [
    "4. Annualize the values"
   ]
  },
  {
   "cell_type": "code",
   "execution_count": 28,
   "id": "266f42cf",
   "metadata": {},
   "outputs": [],
   "source": [
    "df_rv.rv = df_rv.rv * np.sqrt(12)"
   ]
  },
  {
   "cell_type": "code",
   "execution_count": 29,
   "id": "fbbed8a6",
   "metadata": {},
   "outputs": [
    {
     "data": {
      "text/plain": [
       "(             log_rtn\n",
       " Date                \n",
       " 2000-01-03  0.085034\n",
       " 2000-01-04 -0.088077\n",
       " 2000-01-05  0.014527\n",
       " 2000-01-06 -0.090514\n",
       " 2000-01-07  0.046281\n",
       " ...              ...\n",
       " 2020-12-23 -0.007000\n",
       " 2020-12-24  0.007682\n",
       " 2020-12-28  0.035141\n",
       " 2020-12-29 -0.013404\n",
       " 2020-12-30 -0.008563\n",
       " \n",
       " [5283 rows x 1 columns],\n",
       "                   rv\n",
       " Date                \n",
       " 2000-01-31  0.869779\n",
       " 2000-02-29  0.512134\n",
       " 2000-03-31  0.843824\n",
       " 2000-04-30  0.736167\n",
       " 2000-05-31  0.640824\n",
       " ...              ...\n",
       " 2020-08-31  0.339657\n",
       " 2020-09-30  0.546952\n",
       " 2020-10-31  0.442290\n",
       " 2020-11-30  0.275818\n",
       " 2020-12-31  0.290377\n",
       " \n",
       " [252 rows x 1 columns])"
      ]
     },
     "execution_count": 29,
     "metadata": {},
     "output_type": "execute_result"
    }
   ],
   "source": [
    "df, df_rv"
   ]
  },
  {
   "cell_type": "markdown",
   "id": "13facfff",
   "metadata": {},
   "source": [
    "5. Plot the results"
   ]
  },
  {
   "cell_type": "code",
   "execution_count": 30,
   "id": "84d0232b",
   "metadata": {},
   "outputs": [
    {
     "data": {
      "image/png": "[encoded data removed]",
      "text/plain": [
       "<Figure size 720x576 with 2 Axes>"
      ]
     },
     "metadata": {
      "needs_background": "light"
     },
     "output_type": "display_data"
    }
   ],
   "source": [
    "import matplotlib.pyplot as plt\n",
    "\n",
    "fig, ax = plt.subplots(2, 1, sharex=True, figsize=(10,8))\n",
    "ax[0].plot(df)\n",
    "ax[1].plot(df_rv)\n",
    "\n",
    "# plt.tight_layout()\n",
    "plt.show()"
   ]
  },
  {
   "cell_type": "code",
   "execution_count": null,
   "id": "b9ca4e10",
   "metadata": {},
   "outputs": [],
   "source": []
  }
 ],
 "metadata": {
  "kernelspec": {
   "display_name": "Python 3 (ipykernel)",
   "language": "python",
   "name": "python3"
  },
  "language_info": {
   "codemirror_mode": {
    "name": "ipython",
    "version": 3
   },
   "file_extension": ".py",
   "mimetype": "text/x-python",
   "name": "python",
   "nbconvert_exporter": "python",
   "pygments_lexer": "ipython3",
   "version": "3.8.12"
  }
 },
 "nbformat": 4,
 "nbformat_minor": 5
}
